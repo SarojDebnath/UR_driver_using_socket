{
 "cells": [
  {
   "cell_type": "code",
   "execution_count": 1,
   "id": "d2afcd08-555c-4568-9554-53d77d1077e0",
   "metadata": {},
   "outputs": [
    {
     "data": {
      "text/plain": [
       "<IRA_Components.Result object at 0x0000018DEF420A80>"
      ]
     },
     "execution_count": 1,
     "metadata": {},
     "output_type": "execute_result"
    }
   ],
   "source": [
    "import clr\n",
    "import time\n",
    "clr.AddReference(\"IRA_UR_SocketCtrl_Prog\")\n",
    "import IRA_UR_SocketCtrl_Prog\n",
    "robot=IRA_UR_SocketCtrl_Prog.SocketCtrl('192.168.1.251',30002,30020,100,100)\n",
    "robot.Start()"
   ]
  },
  {
   "cell_type": "code",
   "execution_count": 2,
   "id": "65fefb44-5045-4a4a-adcf-957c0af05891",
   "metadata": {},
   "outputs": [],
   "source": [
    "robot.SetTcpOffset([0,0,0.180,0,0,0.7854],True)\n",
    "time.sleep(2)"
   ]
  },
  {
   "cell_type": "code",
   "execution_count": 3,
   "id": "a1d29baf-d819-4af9-b612-6a2e26ad8d1a",
   "metadata": {},
   "outputs": [],
   "source": [
    "robot.Stop()"
   ]
  },
  {
   "cell_type": "code",
   "execution_count": 3,
   "id": "547ade74-c4e7-4d43-88b0-7dc8bf94c930",
   "metadata": {},
   "outputs": [
    {
     "name": "stdout",
     "output_type": "stream",
     "text": [
      "True\n"
     ]
    }
   ],
   "source": [
    "K=robot.IsRobotPowerOn\n",
    "print(K)"
   ]
  },
  {
   "cell_type": "code",
   "execution_count": 4,
   "id": "52769963-57cb-407a-8e9a-da34789db00f",
   "metadata": {},
   "outputs": [
    {
     "name": "stdout",
     "output_type": "stream",
     "text": [
      "False\n"
     ]
    }
   ],
   "source": [
    "K=robot.IsEmergencyStopped"
   ]
  },
  {
   "cell_type": "code",
   "execution_count": 1,
   "id": "88dcaf88-9869-4f28-aef1-15931dc21bf9",
   "metadata": {},
   "outputs": [],
   "source": [
    "# import everything from tkinter module \n",
    "from tkinter import *\n",
    "\n",
    "# import messagebox from tkinter module \n",
    "import tkinter.messagebox \n",
    "\n",
    "# create a tkinter root window \n",
    "root = tkinter.Tk() \n",
    "\n",
    "# root window title and dimension \n",
    "root.title(\"When you press a any button the message will pop up\") \n",
    "root.geometry('500x300') \n",
    "\n",
    "# Create a messagebox showinfo \n",
    "\n",
    "def East(): \n",
    "\ttkinter.messagebox.showinfo(\"Welcome to GFG\", \"East Button clicked\") \n",
    "\n",
    "def West(): \n",
    "\ttkinter.messagebox.showinfo(\"Welcome to GFG\", \"West Button clicked\") \n",
    "\n",
    "def North(): \n",
    "\ttkinter.messagebox.showinfo(\"Welcome to GFG\", \"North Button clicked\") \n",
    "\n",
    "def South(): \n",
    "\ttkinter.messagebox.showinfo(\"Welcome to GFG\", \"South Button clicked\") \n",
    "\n",
    "# Create a Buttons \n",
    "\n",
    "Button1 = Button(root, text=\"West\", command=West, pady=10) \n",
    "Button2 = Button(root, text=\"East\", command=East, pady=10) \n",
    "Button3 = Button(root, text=\"North\", command=North, pady=10) \n",
    "Button4 = Button(root, text=\"South\", command=South, pady=10) \n",
    "\n",
    "# Set the position of buttons \n",
    "Button1.pack(side=LEFT) \n",
    "Button2.pack(side=RIGHT) \n",
    "Button3.pack(side=TOP) \n",
    "Button4.pack(side=BOTTOM) \n",
    "\n",
    "root.mainloop() "
   ]
  },
  {
   "cell_type": "code",
   "execution_count": null,
   "id": "f780e7e4-077d-47e7-8f7d-37fb6df4d9b1",
   "metadata": {},
   "outputs": [],
   "source": []
  }
 ],
 "metadata": {
  "kernelspec": {
   "display_name": "Python 3 (ipykernel)",
   "language": "python",
   "name": "python3"
  },
  "language_info": {
   "codemirror_mode": {
    "name": "ipython",
    "version": 3
   },
   "file_extension": ".py",
   "mimetype": "text/x-python",
   "name": "python",
   "nbconvert_exporter": "python",
   "pygments_lexer": "ipython3",
   "version": "3.9.13"
  }
 },
 "nbformat": 4,
 "nbformat_minor": 5
}
