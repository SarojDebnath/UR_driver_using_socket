{
 "cells": [
  {
   "cell_type": "code",
   "execution_count": 1,
   "id": "d2afcd08-555c-4568-9554-53d77d1077e0",
   "metadata": {},
   "outputs": [
    {
     "data": {
      "text/plain": [
       "<IRA_Components.Result object at 0x0000018DEF420A80>"
      ]
     },
     "execution_count": 1,
     "metadata": {},
     "output_type": "execute_result"
    }
   ],
   "source": [
    "import clr\n",
    "import time\n",
    "clr.AddReference(\"IRA_UR_SocketCtrl_Prog\")\n",
    "import IRA_UR_SocketCtrl_Prog\n",
    "robot=IRA_UR_SocketCtrl_Prog.SocketCtrl('192.168.1.251',30002,30020,100,100)\n",
    "robot.Start()"
   ]
  },
  {
   "cell_type": "code",
   "execution_count": 2,
   "id": "65fefb44-5045-4a4a-adcf-957c0af05891",
   "metadata": {},
   "outputs": [],
   "source": [
    "robot.SetTcpOffset([0,0,0.180,0,0,0.7854],True)\n",
    "time.sleep(2)"
   ]
  },
  {
   "cell_type": "code",
   "execution_count": 3,
   "id": "a1d29baf-d819-4af9-b612-6a2e26ad8d1a",
   "metadata": {},
   "outputs": [],
   "source": [
    "robot.Stop()"
   ]
  },
  {
   "cell_type": "code",
   "execution_count": 3,
   "id": "547ade74-c4e7-4d43-88b0-7dc8bf94c930",
   "metadata": {},
   "outputs": [
    {
     "name": "stdout",
     "output_type": "stream",
     "text": [
      "True\n"
     ]
    }
   ],
   "source": [
    "K=robot.IsRobotPowerOn\n",
    "print(K)"
   ]
  },
  {
   "cell_type": "code",
   "execution_count": 4,
   "id": "52769963-57cb-407a-8e9a-da34789db00f",
   "metadata": {},
   "outputs": [
    {
     "name": "stdout",
     "output_type": "stream",
     "text": [
      "False\n"
     ]
    }
   ],
   "source": [
    "K=robot.IsEmergencyStopped\n",
    "print(K)\n",
    "\n",
    "\n",
    "\n",
    "\n",
    "\n",
    "+Y 0.005\n",
    "\n"
   ]
  },
  {
   "cell_type": "code",
   "execution_count": 1,
   "id": "73d079cd-2521-485c-8a48-7597e5ce85f4",
   "metadata": {},
   "outputs": [
    {
     "name": "stdout",
     "output_type": "stream",
     "text": [
      "-6.67602196762207e-05\n",
      "1.2044961627211137e-05\n",
      "3.3167911981379916e-06\n",
      "-0.34370120674746985\n",
      "0.3049093816472136\n",
      "0.33731444024914325\n"
     ]
    }
   ],
   "source": [
    "pose1=[0.1636174036807882, -0.6662627703316026, 1.3435333717398041, 1.7068768608711575, 0.7971782646267535, -1.7631388842846283]\n",
    "pose2=[0.16355064346111198, -0.6662507253699754, 1.3435366885310023, 1.3631756541236877, 1.102087646273967, -1.425824444035485]\n",
    "for i in range(6):\n",
    "    print(pose2[i]-pose1[i])"
   ]
  },
  {
   "cell_type": "code",
   "execution_count": null,
   "id": "c0ffdd83-9363-42b3-97ad-96492c3e3b01",
   "metadata": {},
   "outputs": [],
   "source": [
    "0.-22.59,270#TCP\n",
    "\n",
    "    #Move\n"
   ]
  }
 ],
 "metadata": {
  "kernelspec": {
   "display_name": "Python 3 (ipykernel)",
   "language": "python",
   "name": "python3"
  },
  "language_info": {
   "codemirror_mode": {
    "name": "ipython",
    "version": 3
   },
   "file_extension": ".py",
   "mimetype": "text/x-python",
   "name": "python",
   "nbconvert_exporter": "python",
   "pygments_lexer": "ipython3",
   "version": "3.9.13"
  }
 },
 "nbformat": 4,
 "nbformat_minor": 5
}
