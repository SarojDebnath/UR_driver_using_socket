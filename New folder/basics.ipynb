{
 "cells": [
  {
   "cell_type": "code",
   "execution_count": 15,
   "id": "0904983a-4feb-4b40-9115-249bf1ed1e8f",
   "metadata": {},
   "outputs": [],
   "source": [
    "import rtde_control\n",
    "\n",
    "rtde_c = rtde_control.RTDEControlInterface(\"192.168.31.99\")\n",
    "rtde_c.moveL([-0.0319, -0.6925, 0.3998, -0.1022, -3.0901, 0.0413], 0.5, 0.3)\n",
    "#rtde_c.moveL([-0.0319, -0.6825, 0.3998, -0.1022, -3.0901, 0.0413], 0.5, 0.3)\n",
    "\n",
    "rtde_c.disconnect()"
   ]
  },
  {
   "cell_type": "code",
   "execution_count": 4,
   "id": "2573a205-ae68-417e-a5c8-efe3db19fdbd",
   "metadata": {},
   "outputs": [],
   "source": [
    "import rtde_receive\n",
    "rtde_r = rtde_receive.RTDEReceiveInterface(\"192.168.31.99\",100.0, verbose=True)\n",
    "actual_q = rtde_r.getActualQ()\n",
    "rtde_r.disconnect()"
   ]
  },
  {
   "cell_type": "code",
   "execution_count": 5,
   "id": "31e1beb6-b07f-4885-b93c-272f17fe2df0",
   "metadata": {},
   "outputs": [
    {
     "name": "stdout",
     "output_type": "stream",
     "text": [
      "[1.0559592247009277, -1.0484154981425782, 0.7260807196246546, 4.9872121689613245, -1.593457047139303, -0.44924766222109014]\n"
     ]
    }
   ],
   "source": [
    "print(actual_q)"
   ]
  },
  {
   "cell_type": "code",
   "execution_count": 4,
   "id": "adfcebf0-709d-4916-ae9d-cc4c7b477ea1",
   "metadata": {},
   "outputs": [],
   "source": [
    "import math\n",
    "joints=[math.degrees(actual_q[0]),math.degrees(actual_q[1]),math.degrees(actual_q[2]),math.degrees(actual_q[3]),math.degrees(actual_q[4]),math.degrees(actual_q[5])]"
   ]
  },
  {
   "cell_type": "code",
   "execution_count": 5,
   "id": "a0b2712e-8a6b-4b9f-91d9-ba7076715242",
   "metadata": {},
   "outputs": [
    {
     "name": "stdout",
     "output_type": "stream",
     "text": [
      "[77.2226105297844, -61.267771079339084, 40.888179787938306, -71.66545001511953, -92.00403146074977, -9.171212829743613]\n"
     ]
    }
   ],
   "source": [
    "print(joints)"
   ]
  },
  {
   "cell_type": "code",
   "execution_count": null,
   "id": "e4cf36b9-c47d-4f9c-ad3b-3bf9990e0d8e",
   "metadata": {},
   "outputs": [],
   "source": [
    "import rtde_io\n",
    "rtde_io = rtde_io.RTDEIOInterface(\"192.168.1.3\")\n",
    "rtde_io.setStandardDigitalOut(1, True)"
   ]
  },
  {
   "cell_type": "code",
   "execution_count": 7,
   "id": "92b529aa-0626-4d36-a468-6a154e50165b",
   "metadata": {},
   "outputs": [
    {
     "data": {
      "text/plain": [
       "True"
      ]
     },
     "execution_count": 7,
     "metadata": {},
     "output_type": "execute_result"
    }
   ],
   "source": [
    "rtde_io.setStandardDigitalOut(7, False)"
   ]
  },
  {
   "cell_type": "code",
   "execution_count": 11,
   "id": "16b3c179-bdb4-46b1-a0e8-1830ee987641",
   "metadata": {},
   "outputs": [
    {
     "ename": "AttributeError",
     "evalue": "'rtde_io.RTDEIOInterface' object has no attribute 'setStandardToolOut'",
     "output_type": "error",
     "traceback": [
      "\u001b[1;31m---------------------------------------------------------------------------\u001b[0m",
      "\u001b[1;31mAttributeError\u001b[0m                            Traceback (most recent call last)",
      "\u001b[1;32m~\\AppData\\Local\\Temp\\ipykernel_12616\\1762245065.py\u001b[0m in \u001b[0;36m<module>\u001b[1;34m\u001b[0m\n\u001b[1;32m----> 1\u001b[1;33m \u001b[0mrtde_io\u001b[0m\u001b[1;33m.\u001b[0m\u001b[0msetStandardToolOut\u001b[0m\u001b[1;33m(\u001b[0m\u001b[1;36m1\u001b[0m\u001b[1;33m,\u001b[0m \u001b[1;32mTrue\u001b[0m\u001b[1;33m)\u001b[0m\u001b[1;33m\u001b[0m\u001b[1;33m\u001b[0m\u001b[0m\n\u001b[0m",
      "\u001b[1;31mAttributeError\u001b[0m: 'rtde_io.RTDEIOInterface' object has no attribute 'setStandardToolOut'"
     ]
    }
   ],
   "source": [
    "rtde_io.setStandardToolOut(1, True)"
   ]
  },
  {
   "cell_type": "code",
   "execution_count": 6,
   "id": "aae302bf-567b-420d-97db-8411f0fd1417",
   "metadata": {},
   "outputs": [],
   "source": [
    "import rtde_control\n",
    "import rtde_receive\n",
    "import robotiq as grip\n",
    "import time\n",
    "count=0\n",
    "rtde_c = rtde_control.RTDEControlInterface(\"169.254.240.99\")\n",
    "rtde_r = rtde_receive.RTDEReceiveInterface(\"169.254.240.99\")\n",
    "while True:\n",
    "    rtde_c.moveL([0.00178,-0.57425,0.48688,0.079,-3.121,0.042], 0.5, 0.3)\n",
    "    time.sleep(1)\n",
    "    grip.move(0)\n",
    "    time.sleep(2)\n",
    "    pos=rtde_r.getActualTCPPose()\n",
    "    pos[0]+=0.1\n",
    "    rtde_c.moveL(pos, 0.5, 0.3)\n",
    "    time.sleep(1)\n",
    "    grip.move(33)\n",
    "    time.sleep(2)\n",
    "    pos1=rtde_r.getActualTCPPose()\n",
    "    pos1[0]-=0.05\n",
    "    pos1[2]-=0.1\n",
    "    rtde_c.moveL(pos1, 0.5, 0.3)\n",
    "    time.sleep(1)\n",
    "    grip.move(66)\n",
    "    time.sleep(2)\n",
    "    count+=1\n",
    "    if count==5:\n",
    "        break\n",
    "rtde_c.disconnect()\n",
    "rtde_r.disconnect()"
   ]
  },
  {
   "cell_type": "code",
   "execution_count": 3,
   "id": "7a0436ff-5fcd-4c26-8e7f-4ff43a69ae69",
   "metadata": {},
   "outputs": [
    {
     "name": "stdout",
     "output_type": "stream",
     "text": [
      "2\n"
     ]
    }
   ],
   "source": [
    "print (2%3)"
   ]
  },
  {
   "cell_type": "code",
   "execution_count": 1,
   "id": "3b61103f-6ce6-4a94-97f1-2fbf64607b8b",
   "metadata": {},
   "outputs": [],
   "source": [
    "import robotiq as grip\n",
    "grip.move(50)"
   ]
  },
  {
   "cell_type": "code",
   "execution_count": 4,
   "id": "5c8472cb-156c-42ee-b288-b695bb7e5b66",
   "metadata": {},
   "outputs": [
    {
     "ename": "ModuleNotFoundError",
     "evalue": "No module named 'RobotiqGripper'",
     "output_type": "error",
     "traceback": [
      "\u001b[1;31m---------------------------------------------------------------------------\u001b[0m",
      "\u001b[1;31mModuleNotFoundError\u001b[0m                       Traceback (most recent call last)",
      "\u001b[1;32m~\\AppData\\Local\\Temp\\ipykernel_8444\\1772295699.py\u001b[0m in \u001b[0;36m<module>\u001b[1;34m\u001b[0m\n\u001b[1;32m----> 1\u001b[1;33m \u001b[1;32mimport\u001b[0m \u001b[0mRobotiqGripper\u001b[0m\u001b[1;33m\u001b[0m\u001b[1;33m\u001b[0m\u001b[0m\n\u001b[0m",
      "\u001b[1;31mModuleNotFoundError\u001b[0m: No module named 'RobotiqGripper'"
     ]
    }
   ],
   "source": [
    "import RobotiqGripper"
   ]
  },
  {
   "cell_type": "markdown",
   "id": "c41942f7-f08f-459a-af1e-e799156b1056",
   "metadata": {},
   "source": [
    "## RTDE and script for contact merged"
   ]
  },
  {
   "cell_type": "code",
   "execution_count": null,
   "id": "e17a1cba-fc8a-4063-a6f1-7199854c6ade",
   "metadata": {},
   "outputs": [],
   "source": [
    "import rtde_control\n",
    "import time\n",
    "\n",
    "rtde_c = rtde_control.RTDEControlInterface(\"194.94.86.99\")\n",
    "rtde_c.moveL([-0.36778, -0.68962, 0.315, 2.232, 2.201, -0.005], 0.5, 0.3)\n",
    "rtde_c.moveL([-0.36778, -0.68962, 0.225, 2.232, 2.201, -0.005], 0.5, 0.3)\n",
    "time.sleep(5)\n",
    "script_filename = \"C:/Users/saroj/CV/ur_rtde/contact_1.script\"\n",
    "f=open(script_filename, \"r\")\n",
    "script_contents = f.read()\n",
    "rtde_c.sendCustomScript(script_contents)\n",
    "rtde_c.stopScript()\n",
    "rtde_c.disconnect()\n",
    "## Working but its stuck in the loop"
   ]
  },
  {
   "cell_type": "markdown",
   "id": "2d589402-c436-4359-8ca2-e71da46cea11",
   "metadata": {},
   "source": [
    "## Same program without script\n",
    "### Rather using ur_rtde commands"
   ]
  },
  {
   "cell_type": "code",
   "execution_count": 1,
   "id": "d3908657-3c53-4f6e-8e78-898bf99084a7",
   "metadata": {},
   "outputs": [
    {
     "ename": "TypeError",
     "evalue": "moveUntilContact(): incompatible function arguments. The following argument types are supported:\n    1. (self: rtde_control.RTDEControlInterface, xd: List[float], direction: List[float] = [0.0, 0.0, 0.0, 0.0, 0.0, 0.0], acceleration: float = 1.2) -> bool\n\nInvoked with: <rtde_control.RTDEControlInterface>, 0.005, [0.0, 0.0, -1.0, 0.0, 0.0, 0.0], 1.2",
     "output_type": "error",
     "traceback": [
      "\u001b[1;31m---------------------------------------------------------------------------\u001b[0m",
      "\u001b[1;31mTypeError\u001b[0m                                 Traceback (most recent call last)",
      "\u001b[1;32m~\\AppData\\Local\\Temp\\ipykernel_9504\\2699525181.py\u001b[0m in \u001b[0;36m<module>\u001b[1;34m\u001b[0m\n\u001b[0;32m      6\u001b[0m \u001b[0mrtde_c\u001b[0m\u001b[1;33m.\u001b[0m\u001b[0mmoveL\u001b[0m\u001b[1;33m(\u001b[0m\u001b[1;33m[\u001b[0m\u001b[1;33m-\u001b[0m\u001b[1;36m0.36778\u001b[0m\u001b[1;33m,\u001b[0m \u001b[1;33m-\u001b[0m\u001b[1;36m0.68962\u001b[0m\u001b[1;33m,\u001b[0m \u001b[1;36m0.225\u001b[0m\u001b[1;33m,\u001b[0m \u001b[1;36m2.232\u001b[0m\u001b[1;33m,\u001b[0m \u001b[1;36m2.201\u001b[0m\u001b[1;33m,\u001b[0m \u001b[1;33m-\u001b[0m\u001b[1;36m0.005\u001b[0m\u001b[1;33m]\u001b[0m\u001b[1;33m,\u001b[0m \u001b[1;36m0.5\u001b[0m\u001b[1;33m,\u001b[0m \u001b[1;36m0.3\u001b[0m\u001b[1;33m)\u001b[0m\u001b[1;33m\u001b[0m\u001b[1;33m\u001b[0m\u001b[0m\n\u001b[0;32m      7\u001b[0m \u001b[0mtime\u001b[0m\u001b[1;33m.\u001b[0m\u001b[0msleep\u001b[0m\u001b[1;33m(\u001b[0m\u001b[1;36m2\u001b[0m\u001b[1;33m)\u001b[0m\u001b[1;33m\u001b[0m\u001b[1;33m\u001b[0m\u001b[0m\n\u001b[1;32m----> 8\u001b[1;33m \u001b[0mrtde_c\u001b[0m\u001b[1;33m.\u001b[0m\u001b[0mmoveUntilContact\u001b[0m\u001b[1;33m(\u001b[0m\u001b[1;36m0.005\u001b[0m\u001b[1;33m,\u001b[0m \u001b[1;33m[\u001b[0m\u001b[1;36m0.0\u001b[0m\u001b[1;33m,\u001b[0m\u001b[1;36m0.0\u001b[0m\u001b[1;33m,\u001b[0m\u001b[1;33m-\u001b[0m\u001b[1;36m1.0\u001b[0m\u001b[1;33m,\u001b[0m\u001b[1;36m0.0\u001b[0m\u001b[1;33m,\u001b[0m\u001b[1;36m0.0\u001b[0m\u001b[1;33m,\u001b[0m\u001b[1;36m0.0\u001b[0m\u001b[1;33m]\u001b[0m\u001b[1;33m,\u001b[0m \u001b[1;36m1.2\u001b[0m\u001b[1;33m)\u001b[0m\u001b[1;33m\u001b[0m\u001b[1;33m\u001b[0m\u001b[0m\n\u001b[0m\u001b[0;32m      9\u001b[0m \u001b[1;31m#rtde_c.stopScript()\u001b[0m\u001b[1;33m\u001b[0m\u001b[1;33m\u001b[0m\u001b[0m\n\u001b[0;32m     10\u001b[0m \u001b[0mrtde_c\u001b[0m\u001b[1;33m.\u001b[0m\u001b[0mdisconnect\u001b[0m\u001b[1;33m(\u001b[0m\u001b[1;33m)\u001b[0m\u001b[1;33m\u001b[0m\u001b[1;33m\u001b[0m\u001b[0m\n",
      "\u001b[1;31mTypeError\u001b[0m: moveUntilContact(): incompatible function arguments. The following argument types are supported:\n    1. (self: rtde_control.RTDEControlInterface, xd: List[float], direction: List[float] = [0.0, 0.0, 0.0, 0.0, 0.0, 0.0], acceleration: float = 1.2) -> bool\n\nInvoked with: <rtde_control.RTDEControlInterface>, 0.005, [0.0, 0.0, -1.0, 0.0, 0.0, 0.0], 1.2"
     ]
    }
   ],
   "source": [
    "import rtde_control\n",
    "import time\n",
    "\n",
    "rtde_c = rtde_control.RTDEControlInterface(\"194.94.86.99\")\n",
    "rtde_c.moveL([-0.36778, -0.68962, 0.315, 2.232, 2.201, -0.005], 0.5, 0.3)\n",
    "rtde_c.moveL([-0.36778, -0.68962, 0.225, 2.232, 2.201, -0.005], 0.5, 0.3)\n",
    "time.sleep(2)\n",
    "rtde_c.moveUntilContact(0.005, [0.0,0.0,-1.0,0.0,0.0,0.0], 1.2)\n",
    "#rtde_c.stopScript()\n",
    "rtde_c.disconnect()\n",
    "\n",
    "## Not Working #############################"
   ]
  },
  {
   "cell_type": "markdown",
   "id": "76c8a821-494f-40e7-ac2e-70ec16ce3c94",
   "metadata": {},
   "source": [
    "## Use the socket and ur_rtde, \n",
    "## Modify the script command"
   ]
  },
  {
   "cell_type": "code",
   "execution_count": 1,
   "id": "1c2957cd-85a3-4706-820f-4ec92a5351dd",
   "metadata": {},
   "outputs": [],
   "source": [
    "import rtde_control\n",
    "import time\n",
    "import rtde_receive\n",
    "import robotiq as grip\n",
    "rtde_r = rtde_receive.RTDEReceiveInterface(\"192.168.31.99\")\n",
    "rtde_c = rtde_control.RTDEControlInterface(\"192.168.31.99\")\n",
    "rtde_c.moveL([-0.36778, -0.68962, 0.315, 2.232, 2.201, -0.005], 0.5, 0.3)\n",
    "rtde_c.moveL([-0.36778, -0.68962, 0.225, 2.232, 2.201, -0.005], 0.5, 0.3)\n",
    "actual_q = rtde_r.getActualQ()\n",
    "#rtde_c.moveUntilContact([-0.36778, -0.68962, 0.125, 2.232, 2.201, -0.005], [0.0,0.0,-1.0,0.0,0.0,0.0], 1.2)\n",
    "#rtde_c.stopScript()\n",
    "rtde_c.disconnect()\n",
    "time.sleep(2)\n",
    "#grip.contact()\n",
    "grip.Activate()\n",
    "time.sleep(3)\n",
    "rtde_c.reconnect()\n",
    "rtde_c.moveL([-0.36778, -0.68962, 0.315, 2.232, 2.201, -0.005], 0.5, 0.3)\n",
    "rtde_c.disconnect()"
   ]
  },
  {
   "cell_type": "code",
   "execution_count": 3,
   "id": "570b30d9-b18d-4f23-ba2b-833dcd9c6e36",
   "metadata": {},
   "outputs": [],
   "source": [
    "import gripper_robotiq as grip\n",
    "grip.contact()"
   ]
  },
  {
   "cell_type": "code",
   "execution_count": 1,
   "id": "4903135c-ad61-4f98-8f89-471fb771efa5",
   "metadata": {},
   "outputs": [],
   "source": [
    "import rtde_control\n",
    "import time\n",
    "import rtde_receive\n",
    "import gripper_robotiq as grip\n",
    "rtde_r = rtde_receive.RTDEReceiveInterface(\"192.168.31.99\")\n",
    "rtde_c = rtde_control.RTDEControlInterface(\"192.168.31.99\")\n",
    "rtde_c.moveL([-0.36778, -0.68962, 0.315, 2.232, 2.201, -0.005], 0.5, 0.3)\n",
    "rtde_c.moveL([-0.36778, -0.68962, 0.225, 2.232, 2.201, -0.005], 0.5, 0.3)\n",
    "actual_q = rtde_r.getActualQ()\n",
    "rtde_c.moveUntilContact([0, 0, 0.15, 0, 0, 0],[0, 0, -0.100, 0, 0, 0],0.5)\n",
    "rtde_c.moveL([-0.36778, -0.68962, 0.315, 2.232, 2.201, -0.005], 0.5, 0.3)\n",
    "#rtde_c.stopScript()\n",
    "rtde_c.disconnect()"
   ]
  },
  {
   "cell_type": "markdown",
   "id": "863d8e6e-8008-4516-8335-2d23a44da561",
   "metadata": {},
   "source": [
    "## Measure the forces."
   ]
  },
  {
   "cell_type": "code",
   "execution_count": 3,
   "id": "a64edab4-38cb-4c91-9270-83b8578d2d67",
   "metadata": {},
   "outputs": [
    {
     "ename": "AttributeError",
     "evalue": "'rtde_receive.RTDEReceiveInterface' object has no attribute 'getTCPForceScalar'",
     "output_type": "error",
     "traceback": [
      "\u001b[1;31m---------------------------------------------------------------------------\u001b[0m",
      "\u001b[1;31mAttributeError\u001b[0m                            Traceback (most recent call last)",
      "\u001b[1;32m~\\AppData\\Local\\Temp\\ipykernel_5044\\1733825046.py\u001b[0m in \u001b[0;36m<module>\u001b[1;34m\u001b[0m\n\u001b[0;32m      2\u001b[0m \u001b[0mrtde_r\u001b[0m \u001b[1;33m=\u001b[0m \u001b[0mrtde_receive\u001b[0m\u001b[1;33m.\u001b[0m\u001b[0mRTDEReceiveInterface\u001b[0m\u001b[1;33m(\u001b[0m\u001b[1;34m\"194.94.86.99\"\u001b[0m\u001b[1;33m)\u001b[0m\u001b[1;33m\u001b[0m\u001b[1;33m\u001b[0m\u001b[0m\n\u001b[0;32m      3\u001b[0m \u001b[0mactual_q\u001b[0m \u001b[1;33m=\u001b[0m \u001b[0mrtde_r\u001b[0m\u001b[1;33m.\u001b[0m\u001b[0mgetActualQ\u001b[0m\u001b[1;33m(\u001b[0m\u001b[1;33m)\u001b[0m\u001b[1;33m\u001b[0m\u001b[1;33m\u001b[0m\u001b[0m\n\u001b[1;32m----> 4\u001b[1;33m \u001b[0mforcesS\u001b[0m\u001b[1;33m=\u001b[0m\u001b[0mrtde_r\u001b[0m\u001b[1;33m.\u001b[0m\u001b[0mgetTCPForceScalar\u001b[0m\u001b[1;33m(\u001b[0m\u001b[1;33m)\u001b[0m\u001b[1;33m\u001b[0m\u001b[1;33m\u001b[0m\u001b[0m\n\u001b[0m\u001b[0;32m      5\u001b[0m \u001b[0mprint\u001b[0m\u001b[1;33m(\u001b[0m\u001b[0mforcesS\u001b[0m\u001b[1;33m)\u001b[0m\u001b[1;33m\u001b[0m\u001b[1;33m\u001b[0m\u001b[0m\n\u001b[0;32m      6\u001b[0m \u001b[0mforcesV\u001b[0m\u001b[1;33m=\u001b[0m\u001b[0mrtde_r\u001b[0m\u001b[1;33m.\u001b[0m\u001b[0mgetTCPForceVector\u001b[0m\u001b[1;33m(\u001b[0m\u001b[1;33m)\u001b[0m\u001b[1;33m\u001b[0m\u001b[1;33m\u001b[0m\u001b[0m\n",
      "\u001b[1;31mAttributeError\u001b[0m: 'rtde_receive.RTDEReceiveInterface' object has no attribute 'getTCPForceScalar'"
     ]
    }
   ],
   "source": [
    "import rtde_receive\n",
    "rtde_r = rtde_receive.RTDEReceiveInterface(\"192.168.1.252\")\n",
    "actual_q = rtde_r.getActualQ()\n",
    "F=rtde_r.getActualTCPForce()\n",
    "rtde_r.disconnect()"
   ]
  },
  {
   "cell_type": "markdown",
   "id": "26ad4acf-2321-4c70-9fb5-6e0b55e32949",
   "metadata": {},
   "source": [
    "### servoL,, Here, We get very very jerky motion."
   ]
  },
  {
   "cell_type": "code",
   "execution_count": 1,
   "id": "3ef5aaf2-7031-4c8b-9173-93703d1a7237",
   "metadata": {},
   "outputs": [],
   "source": [
    "import rtde_control\n",
    "import time\n",
    "rtde_c = rtde_control.RTDEControlInterface(\"192.168.31.99\")\n",
    "t1=time.time()\n",
    "\n",
    "while True:\n",
    "\n",
    "    rtde_c.servoL([-0.0319, -0.6925, 0.3999, -0.1023, -3.0901, 0.0413],0.5,0.3,1.0/100,0.1,300)\n",
    "    time.sleep(1)\n",
    "    rtde_c.servoL([-0.0719, -0.6925, 0.3999, -0.1023, -3.0901, 0.0413],0.5,0.3,1.0/100,0.1,300)\n",
    "    time.sleep(1)\n",
    "    t2=time.time()\n",
    "    if (t2-t1)>5:\n",
    "        break  \n",
    "rtde_c.disconnect()"
   ]
  },
  {
   "cell_type": "code",
   "execution_count": 2,
   "id": "739abac8-dbbd-4ea1-8cfb-dc5950073af8",
   "metadata": {},
   "outputs": [],
   "source": [
    "import rtde_control\n",
    "import time\n",
    "rtde_c = rtde_control.RTDEControlInterface(\"192.168.31.99\")\n",
    "t1=time.time()\n",
    "\n",
    "while True:\n",
    "    \n",
    "    rtde_c.moveL([-0.0319, -0.6925, 0.3999, -0.1023, -3.0901, 0.0413], 0.5, 0.3)\n",
    "    time.sleep(1)\n",
    "    rtde_c.moveL([0.0719, -0.6925, 0.3999, -0.1023, -3.0901, 0.0413], 0.5, 0.3)\n",
    "    time.sleep(1)\n",
    "    t2=time.time()\n",
    "    if (t2-t1)>5:\n",
    "        break\n",
    "        \n",
    "rtde_c.disconnect()"
   ]
  },
  {
   "cell_type": "code",
   "execution_count": null,
   "id": "3f943ada-ee27-4633-b0b1-49b2efc46ce4",
   "metadata": {},
   "outputs": [],
   "source": []
  }
 ],
 "metadata": {
  "kernelspec": {
   "display_name": "Python 3 (ipykernel)",
   "language": "python",
   "name": "python3"
  },
  "language_info": {
   "codemirror_mode": {
    "name": "ipython",
    "version": 3
   },
   "file_extension": ".py",
   "mimetype": "text/x-python",
   "name": "python",
   "nbconvert_exporter": "python",
   "pygments_lexer": "ipython3",
   "version": "3.9.13"
  }
 },
 "nbformat": 4,
 "nbformat_minor": 5
}
