{
 "cells": [
  {
   "cell_type": "code",
   "execution_count": 1,
   "id": "4bae7cd4-f02e-428e-8735-99dda2196a11",
   "metadata": {},
   "outputs": [
    {
     "name": "stdout",
     "output_type": "stream",
     "text": [
      "Connected\n",
      "Reading from robot\n",
      "[68.3711, -82.2355, 85.144, 176.4083, -68.1589, -1.7095, -0.0384, -0.723, 0.6647, 0.0518, -2.1933, 2.2113]\n"
     ]
    }
   ],
   "source": [
    "import read\n",
    "print(read.joints())"
   ]
  },
  {
   "cell_type": "code",
   "execution_count": 2,
   "id": "8354357c-4665-412f-9af2-85a46922359c",
   "metadata": {},
   "outputs": [
    {
     "name": "stdout",
     "output_type": "stream",
     "text": [
      "Connected\n",
      "Reading from robot\n",
      "[65.8046, -54.2003, 76.9813, -112.8132, -89.6461, -24.0045, -0.1688, -0.7028, 0.0978, 0.0007, -3.1397, -0.0]\n"
     ]
    }
   ],
   "source": [
    "print(read.joints())"
   ]
  },
  {
   "cell_type": "code",
   "execution_count": 9,
   "id": "b4f7d548-4115-47e0-9ff0-9aec7671c0a5",
   "metadata": {},
   "outputs": [
    {
     "ename": "AttributeError",
     "evalue": "module 'read' has no attribute 'io_signals'",
     "output_type": "error",
     "traceback": [
      "\u001b[1;31m---------------------------------------------------------------------------\u001b[0m",
      "\u001b[1;31mAttributeError\u001b[0m                            Traceback (most recent call last)",
      "\u001b[1;32m~\\AppData\\Local\\Temp\\ipykernel_6504\\3794963948.py\u001b[0m in \u001b[0;36m<module>\u001b[1;34m\u001b[0m\n\u001b[0;32m      1\u001b[0m \u001b[1;32mimport\u001b[0m \u001b[0mread\u001b[0m\u001b[1;33m\u001b[0m\u001b[1;33m\u001b[0m\u001b[0m\n\u001b[1;32m----> 2\u001b[1;33m \u001b[0mprint\u001b[0m\u001b[1;33m(\u001b[0m\u001b[0mread\u001b[0m\u001b[1;33m.\u001b[0m\u001b[0mio_signals\u001b[0m\u001b[1;33m(\u001b[0m\u001b[1;33m)\u001b[0m\u001b[1;33m)\u001b[0m\u001b[1;33m\u001b[0m\u001b[1;33m\u001b[0m\u001b[0m\n\u001b[0m",
      "\u001b[1;31mAttributeError\u001b[0m: module 'read' has no attribute 'io_signals'"
     ]
    }
   ],
   "source": [
    "#import read\n",
    "#print(read.io_signals())"
   ]
  },
  {
   "cell_type": "code",
   "execution_count": 4,
   "id": "e3a1c228-9621-4154-aac0-0fa5330e58b0",
   "metadata": {},
   "outputs": [
    {
     "name": "stdout",
     "output_type": "stream",
     "text": [
      "Connected\n",
      "Reading from robot\n",
      "[1, 6, 16]\n"
     ]
    }
   ],
   "source": [
    "import io_signals\n",
    "num=io_signals.io_signals()\n",
    "num=num[0]\n",
    "print(num)"
   ]
  },
  {
   "cell_type": "markdown",
   "id": "31dfa8c4-304a-4408-af44-fd90c268f774",
   "metadata": {},
   "source": [
    "### We get a value of summation of 2 raised to the power of the active output port so, that is needed to be solved"
   ]
  },
  {
   "cell_type": "code",
   "execution_count": 14,
   "id": "01507a20-5b28-4bda-9dc8-bb32d2f28425",
   "metadata": {},
   "outputs": [
    {
     "name": "stdin",
     "output_type": "stream",
     "text": [
      "Enter the signal 66\n"
     ]
    },
    {
     "name": "stdout",
     "output_type": "stream",
     "text": [
      "[1, 6]\n"
     ]
    }
   ],
   "source": [
    "from itertools import combinations\n",
    "num=int(input('Enter the signal'))\n",
    "k=[]\n",
    "if (num==0):\n",
    "    print('None')\n",
    "else:\n",
    "    for i in range(1,11):\n",
    "        comb= combinations([0,1,2,3,4,5,6,7,16,17], i)\n",
    "        for j in list(comb):\n",
    "            l=len(j)\n",
    "            num1=0\n",
    "            for x in range(l):\n",
    "                num1=num1+pow(2,j[x])\n",
    "            if num1==num:\n",
    "                j=list(j)\n",
    "                k=j\n",
    "                print(j)\n",
    "                break"
   ]
  },
  {
   "cell_type": "code",
   "execution_count": 9,
   "id": "16bf2b08-936d-47c0-acd7-ef0e2678989e",
   "metadata": {},
   "outputs": [
    {
     "name": "stdout",
     "output_type": "stream",
     "text": [
      "65536\n"
     ]
    }
   ],
   "source": [
    "print(pow(2,16))"
   ]
  },
  {
   "cell_type": "code",
   "execution_count": 3,
   "id": "fd6d976a-2545-4b1e-92fe-2639057497fc",
   "metadata": {},
   "outputs": [
    {
     "name": "stdout",
     "output_type": "stream",
     "text": [
      "[2, 3]\n",
      "<class 'list'>\n"
     ]
    }
   ],
   "source": [
    "t=(2,3)\n",
    "t=list(t)\n",
    "print(t)\n",
    "print(type(t))"
   ]
  },
  {
   "cell_type": "markdown",
   "id": "17a874ed-4dd1-4c55-a488-b189cf02a5aa",
   "metadata": {},
   "source": [
    "### An alternative way\n",
    "### Using binary conversions"
   ]
  },
  {
   "cell_type": "code",
   "execution_count": 17,
   "id": "0ab8d851-2cd9-4d4e-a3ed-edd6a44f317b",
   "metadata": {},
   "outputs": [
    {
     "name": "stdin",
     "output_type": "stream",
     "text": [
      "Enter the signal 82\n"
     ]
    },
    {
     "name": "stdout",
     "output_type": "stream",
     "text": [
      "[1, 4, 6]\n"
     ]
    }
   ],
   "source": [
    "num=int(input('Enter the signal'))\n",
    "def decimalToBinary(n):\n",
    "    return bin(n).replace(\"0b\", \"\")\n",
    "sig=(decimalToBinary(num))[::-1]\n",
    "outs=[]\n",
    "for i in range(len(sig)):\n",
    "    if sig[i]=='1' :\n",
    "        outs.append(i)\n",
    "print(outs)"
   ]
  },
  {
   "cell_type": "code",
   "execution_count": 12,
   "id": "6cd55693-da38-479f-b4c5-aa7820ebb323",
   "metadata": {},
   "outputs": [
    {
     "ename": "TypeError",
     "evalue": "'NoneType' object is not iterable",
     "output_type": "error",
     "traceback": [
      "\u001b[1;31m---------------------------------------------------------------------------\u001b[0m",
      "\u001b[1;31mTypeError\u001b[0m                                 Traceback (most recent call last)",
      "\u001b[1;32m~\\AppData\\Local\\Temp\\ipykernel_6140\\2490951468.py\u001b[0m in \u001b[0;36m<module>\u001b[1;34m\u001b[0m\n\u001b[1;32m----> 1\u001b[1;33m \u001b[0msigl\u001b[0m\u001b[1;33m=\u001b[0m\u001b[0mlist\u001b[0m\u001b[1;33m(\u001b[0m\u001b[0msig\u001b[0m\u001b[1;33m.\u001b[0m\u001b[0mreverse\u001b[0m\u001b[1;33m(\u001b[0m\u001b[1;33m)\u001b[0m\u001b[1;33m)\u001b[0m\u001b[1;33m\u001b[0m\u001b[1;33m\u001b[0m\u001b[0m\n\u001b[0m\u001b[0;32m      2\u001b[0m \u001b[0mprint\u001b[0m\u001b[1;33m(\u001b[0m\u001b[0msigl\u001b[0m\u001b[1;33m)\u001b[0m\u001b[1;33m\u001b[0m\u001b[1;33m\u001b[0m\u001b[0m\n",
      "\u001b[1;31mTypeError\u001b[0m: 'NoneType' object is not iterable"
     ]
    }
   ],
   "source": [
    "sigl=list(sig.reverse())\n",
    "print(sigl)"
   ]
  },
  {
   "cell_type": "code",
   "execution_count": 6,
   "id": "02c56c82-9d03-4153-8465-ccd825b45a62",
   "metadata": {},
   "outputs": [
    {
     "name": "stdout",
     "output_type": "stream",
     "text": [
      "Connected\n",
      "Reading from robot\n"
     ]
    }
   ],
   "source": [
    "import read\n",
    "k=read.joints()"
   ]
  },
  {
   "cell_type": "code",
   "execution_count": 8,
   "id": "dcfdc63a-9289-4990-aedb-fd83f496d936",
   "metadata": {},
   "outputs": [],
   "source": [
    "import rtde_control\n",
    "rtde_c = rtde_control.RTDEControlInterface(\"192.168.31.99\")\n",
    "k1=k[6:]\n",
    "k1[0]-=0.0422\n",
    "k1[1]-=0.0394\n",
    "rtde_c.moveL(k1, 0.5, 0.3)\n",
    "rtde_c.disconnect()"
   ]
  },
  {
   "cell_type": "code",
   "execution_count": 5,
   "id": "845b7fbf-97f7-4d23-969e-a85e3399155d",
   "metadata": {},
   "outputs": [
    {
     "name": "stdout",
     "output_type": "stream",
     "text": [
      "[-0.1266, -0.6634, 0.2836, 0.0008, -3.1398, -0.0002]\n"
     ]
    }
   ],
   "source": [
    "k1=k[6:]\n",
    "print(k1)"
   ]
  },
  {
   "cell_type": "code",
   "execution_count": null,
   "id": "5056750a-a91c-432f-b4cd-479c6e86718b",
   "metadata": {},
   "outputs": [],
   "source": []
  }
 ],
 "metadata": {
  "kernelspec": {
   "display_name": "Python 3 (ipykernel)",
   "language": "python",
   "name": "python3"
  },
  "language_info": {
   "codemirror_mode": {
    "name": "ipython",
    "version": 3
   },
   "file_extension": ".py",
   "mimetype": "text/x-python",
   "name": "python",
   "nbconvert_exporter": "python",
   "pygments_lexer": "ipython3",
   "version": "3.9.13"
  }
 },
 "nbformat": 4,
 "nbformat_minor": 5
}
